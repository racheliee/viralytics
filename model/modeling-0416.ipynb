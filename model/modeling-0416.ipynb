{
 "cells": [
  {
   "cell_type": "code",
   "execution_count": 3,
   "id": "49ce2040-eb69-460a-bf18-072f1e99411e",
   "metadata": {},
   "outputs": [],
   "source": [
    "import pandas as pd\n",
    "import json\n",
    "\n",
    "\n",
    "df = pd.read_csv('C:\\\\Users\\\\장재요원지\\\\Downloads\\\\merged_dataset_post_with_images_with_captions.csv', encoding='utf-8')"
   ]
  },
  {
   "cell_type": "code",
   "execution_count": null,
   "id": "a81bffb1-9479-46c8-ba71-bddf28b53d1f",
   "metadata": {},
   "outputs": [
    {
     "ename": "NameError",
     "evalue": "name 'df' is not defined",
     "output_type": "error",
     "traceback": [
      "\u001b[0;31m---------------------------------------------------------------------------\u001b[0m",
      "\u001b[0;31mNameError\u001b[0m                                 Traceback (most recent call last)",
      "Cell \u001b[0;32mIn[1], line 1\u001b[0m\n\u001b[0;32m----> 1\u001b[0m \u001b[38;5;28mprint\u001b[39m(df[\u001b[38;5;124m'\u001b[39m\u001b[38;5;124mlikesCount\u001b[39m\u001b[38;5;124m'\u001b[39m])\n",
      "\u001b[0;31mNameError\u001b[0m: name 'df' is not defined"
     ]
    }
   ],
   "source": [
    "print(df['impresssions'])"
   ]
  },
  {
   "cell_type": "code",
   "execution_count": 5,
   "id": "577f1ae2-5e10-4982-a142-747012cda425",
   "metadata": {},
   "outputs": [],
   "source": [
    "def count_hashtags(x):\n",
    "    if pd.isna(x):\n",
    "        return 0\n",
    "    # 빈 문자열 처리\n",
    "    x = x.strip()\n",
    "    if not x:\n",
    "        return 0\n",
    "    return len([tag for tag in x.split(',') if tag.strip()])\n",
    "\n",
    "df['hashtag_count'] = df['hashtags'].apply(count_hashtags)\n",
    "df['mention_count'] = df['mentions'].apply(count_hashtags)"
   ]
  },
  {
   "cell_type": "code",
   "execution_count": 6,
   "id": "10005f52-5581-4934-a485-20a0c2adc6b2",
   "metadata": {},
   "outputs": [],
   "source": [
    "df=df.drop(columns=['mentions','hashtags'])"
   ]
  },
  {
   "cell_type": "code",
   "execution_count": 7,
   "id": "7cdb141a-602a-40c8-807b-71b5c3242251",
   "metadata": {},
   "outputs": [
    {
     "name": "stdout",
     "output_type": "stream",
     "text": [
      "caption\n",
      "5\n",
      "commentsCount\n",
      "0\n",
      "likesCount\n",
      "0\n",
      "timestamp\n",
      "0\n",
      "owner_id\n",
      "25\n",
      "owner_fullName\n",
      "25\n",
      "owner_verified\n",
      "25\n",
      "owner_biography\n",
      "25\n",
      "owner_followersCount\n",
      "25\n",
      "owner_businessCategoryName\n",
      "32\n",
      "owner_postsCount\n",
      "25\n",
      "impression\n",
      "0\n",
      "isSponsored\n",
      "0\n",
      "images\n",
      "0\n",
      "image_captions\n",
      "0\n",
      "hashtag_count\n",
      "0\n",
      "mention_count\n",
      "0\n"
     ]
    }
   ],
   "source": [
    "for col in df.columns:\n",
    "    print(col)\n",
    "    print(df[col].isna().sum())"
   ]
  },
  {
   "cell_type": "code",
   "execution_count": 8,
   "id": "008ba46c-ad0d-429e-8367-9eb6731da790",
   "metadata": {},
   "outputs": [],
   "source": [
    "df=df[df['caption'].isna()==False]"
   ]
  },
  {
   "cell_type": "code",
   "execution_count": 9,
   "id": "cefa68eb-8ac4-4e28-b958-1e7846cf8f2d",
   "metadata": {},
   "outputs": [],
   "source": [
    "df_captionlen=df['caption'].apply(lambda x: len(x))\n",
    "df['captionlen']=df_captionlen"
   ]
  },
  {
   "cell_type": "code",
   "execution_count": 119,
   "id": "d915f8e9-bc74-4ac4-bef3-e43809a036c6",
   "metadata": {},
   "outputs": [
    {
     "name": "stdout",
     "output_type": "stream",
     "text": [
      "0                                            그냥 도라에몽 아님?\n",
      "1      #EVENT|||아니.. 충주맨이 왜 여기서 나와..?|||핵-인싸 충주맨과 GS2...\n",
      "2      주말 낮시간... 아빠가 개 놓은 이불 위에 올라가서 자리...를 잡고 바깥 구경하...\n",
      "3      MBC <전지적 참견 시점> 출연|||6월 22일(토) 밤 11:10|||#충주 #...\n",
      "4      가슴 떠껀해지는 친절한 튀르키에편🇹🇷|||아직 남았지! 컄캬|||#지구마불세계여행3...\n",
      "                             ...                        \n",
      "916                                     에잇 ! 십원빵이 젤 맛있어😐\n",
      "917                    머지않아 작업실 계약도 종료.|||다음엔 또 어디로 갈까나?\n",
      "918                        그냥 내가 갖고 싶은, 소유하고 싶은 그림을 그린다.\n",
      "920                                        💙🐠🦋🩵🐟🧚🏻‍♂️💚🧊🌊\n",
      "921                                                👨‍👨‍👧\n",
      "Name: caption, Length: 917, dtype: object\n"
     ]
    }
   ],
   "source": [
    "print(df['caption'])"
   ]
  },
  {
   "cell_type": "code",
   "execution_count": 118,
   "id": "1569f6d9-99eb-4475-a65c-ec0ae1e81ba8",
   "metadata": {},
   "outputs": [
    {
     "data": {
      "text/plain": [
       "0       11\n",
       "1      505\n",
       "2       57\n",
       "3       54\n",
       "4       52\n",
       "      ... \n",
       "916     16\n",
       "917     33\n",
       "918     29\n",
       "920     13\n",
       "921      5\n",
       "Name: captionlen, Length: 917, dtype: int64"
      ]
     },
     "execution_count": 118,
     "metadata": {},
     "output_type": "execute_result"
    }
   ],
   "source": [
    "df['captionlen']"
   ]
  },
  {
   "cell_type": "code",
   "execution_count": 10,
   "id": "62519a9b-e3bd-4fef-b21c-b9bf7d5c13be",
   "metadata": {},
   "outputs": [],
   "source": [
    "from datetime import datetime\n",
    "\n",
    "df[\"day_of_week\"] = df[\"timestamp\"].apply(lambda x: datetime.strptime(x, \"%Y-%m-%dT%H:%M:%S.%fZ\").strftime(\"%A\"))\n",
    "df[\"hour\"] = df[\"timestamp\"].apply(lambda x: int(datetime.strptime(x, \"%Y-%m-%dT%H:%M:%S.%fZ\").strftime(\"%H\")))\n",
    "df[\"day_of_year\"] = df[\"timestamp\"].apply(lambda x: datetime.strptime(x, \"%Y-%m-%dT%H:%M:%S.%fZ\").strftime(\"%Y\"))\n"
   ]
  },
  {
   "cell_type": "code",
   "execution_count": 11,
   "id": "bbdab336-1273-490e-8e9d-0c0e5c5f4ebf",
   "metadata": {},
   "outputs": [],
   "source": [
    "df2=df.drop(columns=['caption','timestamp','owner_fullName','owner_verified','owner_biography','isSponsored','images','image_captions'])"
   ]
  },
  {
   "cell_type": "code",
   "execution_count": 12,
   "id": "b4dd380e-facd-4861-82dd-468f7e6dfcaa",
   "metadata": {},
   "outputs": [
    {
     "name": "stdout",
     "output_type": "stream",
     "text": [
      "        commentsCount     likesCount      owner_id  owner_followersCount  \\\n",
      "count      917.000000     917.000000  8.920000e+02          8.920000e+02   \n",
      "unique            NaN            NaN           NaN                   NaN   \n",
      "top               NaN            NaN           NaN                   NaN   \n",
      "freq              NaN            NaN           NaN                   NaN   \n",
      "mean       215.858233   37195.897492  5.156665e+09          7.244671e+05   \n",
      "std        716.356902   54966.212789  1.267624e+10          8.046081e+05   \n",
      "min          0.000000      -1.000000  4.911453e+08          1.355000e+04   \n",
      "25%         25.000000    3493.000000  1.434977e+09          1.895950e+05   \n",
      "50%         99.000000   14861.000000  1.555054e+09          3.474150e+05   \n",
      "75%        224.000000   50278.000000  3.636305e+09          1.011338e+06   \n",
      "max      16059.000000  563336.000000  6.467295e+10          2.459253e+06   \n",
      "\n",
      "       owner_businessCategoryName  owner_postsCount    impression  \\\n",
      "count                         885        892.000000    917.000000   \n",
      "unique                         17               NaN           NaN   \n",
      "top                 Video creator               NaN           NaN   \n",
      "freq                          195               NaN           NaN   \n",
      "mean                          NaN       1672.087444    283.158314   \n",
      "std                           NaN       4115.544895   2457.693835   \n",
      "min                           NaN         31.000000      0.000000   \n",
      "25%                           NaN        198.000000      0.015285   \n",
      "50%                           NaN        399.000000      0.035549   \n",
      "75%                           NaN        659.000000      0.073713   \n",
      "max                           NaN      17672.000000  45698.000000   \n",
      "\n",
      "        hashtag_count  mention_count   captionlen day_of_week        hour  \\\n",
      "count      917.000000     917.000000   917.000000         917  917.000000   \n",
      "unique            NaN            NaN          NaN           7         NaN   \n",
      "top               NaN            NaN          NaN      Friday         NaN   \n",
      "freq              NaN            NaN          NaN         144         NaN   \n",
      "mean         1.983642       0.333697   197.788441         NaN    9.799346   \n",
      "std          4.199027       1.124309   306.140870         NaN    4.434516   \n",
      "min          0.000000       0.000000     1.000000         NaN    0.000000   \n",
      "25%          0.000000       0.000000    20.000000         NaN    7.000000   \n",
      "50%          0.000000       0.000000    58.000000         NaN   10.000000   \n",
      "75%          2.000000       0.000000   247.000000         NaN   12.000000   \n",
      "max         30.000000      19.000000  1951.000000         NaN   23.000000   \n",
      "\n",
      "       day_of_year  \n",
      "count          917  \n",
      "unique           3  \n",
      "top           2024  \n",
      "freq           470  \n",
      "mean           NaN  \n",
      "std            NaN  \n",
      "min            NaN  \n",
      "25%            NaN  \n",
      "50%            NaN  \n",
      "75%            NaN  \n",
      "max            NaN  \n"
     ]
    }
   ],
   "source": [
    "print(df2.describe(include='all'))"
   ]
  },
  {
   "cell_type": "code",
   "execution_count": 13,
   "id": "61212633-02e2-4ce9-bd2b-5819dee82c18",
   "metadata": {},
   "outputs": [],
   "source": [
    "df2['day_of_year']=df2['day_of_year'].astype(int)"
   ]
  },
  {
   "cell_type": "code",
   "execution_count": 14,
   "id": "44f4e109-c320-4719-ae5b-17a766d0fac0",
   "metadata": {},
   "outputs": [],
   "source": [
    "df2 = pd.get_dummies(\n",
    "    df2,\n",
    "    columns=['day_of_week', 'owner_businessCategoryName'],\n",
    "    dtype=int  # int로 지정\n",
    ")"
   ]
  },
  {
   "cell_type": "code",
   "execution_count": 15,
   "id": "912e3712-0ed6-4499-b91f-50f10ac53276",
   "metadata": {},
   "outputs": [
    {
     "name": "stdout",
     "output_type": "stream",
     "text": [
      "(917, 35)\n"
     ]
    }
   ],
   "source": [
    "print(df2.shape)"
   ]
  },
  {
   "cell_type": "code",
   "execution_count": 16,
   "id": "956132c3-d365-47a1-bab8-07bb3509793c",
   "metadata": {},
   "outputs": [],
   "source": [
    "df2=df2[df2['owner_id'].isna()==False]"
   ]
  },
  {
   "cell_type": "code",
   "execution_count": 17,
   "id": "e60657b7-7501-440a-ad63-32e8b4f69229",
   "metadata": {},
   "outputs": [
    {
     "data": {
      "text/plain": [
       "commentsCount                                           0\n",
       "likesCount                                              0\n",
       "owner_id                                                0\n",
       "owner_followersCount                                    0\n",
       "owner_postsCount                                        0\n",
       "impression                                              0\n",
       "hashtag_count                                           0\n",
       "mention_count                                           0\n",
       "captionlen                                              0\n",
       "hour                                                    0\n",
       "day_of_year                                             0\n",
       "day_of_week_Friday                                      0\n",
       "day_of_week_Monday                                      0\n",
       "day_of_week_Saturday                                    0\n",
       "day_of_week_Sunday                                      0\n",
       "day_of_week_Thursday                                    0\n",
       "day_of_week_Tuesday                                     0\n",
       "day_of_week_Wednesday                                   0\n",
       "owner_businessCategoryName_Actor                        0\n",
       "owner_businessCategoryName_Album                        0\n",
       "owner_businessCategoryName_Artist                       0\n",
       "owner_businessCategoryName_Clothing (Brand)             0\n",
       "owner_businessCategoryName_Comedy club                  0\n",
       "owner_businessCategoryName_Community                    0\n",
       "owner_businessCategoryName_Digital creator              0\n",
       "owner_businessCategoryName_Model                        0\n",
       "owner_businessCategoryName_Motivational speaker         0\n",
       "owner_businessCategoryName_Movie/television studio      0\n",
       "owner_businessCategoryName_None,Health/beauty           0\n",
       "owner_businessCategoryName_None,Media                   0\n",
       "owner_businessCategoryName_None,News & media website    0\n",
       "owner_businessCategoryName_None,Shopping & retail       0\n",
       "owner_businessCategoryName_None,Video creator           0\n",
       "owner_businessCategoryName_Scientist                    0\n",
       "owner_businessCategoryName_Video creator                0\n",
       "dtype: int64"
      ]
     },
     "execution_count": 17,
     "metadata": {},
     "output_type": "execute_result"
    }
   ],
   "source": [
    "df2.isna().sum()"
   ]
  },
  {
   "cell_type": "code",
   "execution_count": 28,
   "id": "90193983-472c-4189-89c8-1ae554803f26",
   "metadata": {},
   "outputs": [],
   "source": [
    "df2 = df2[df2['likesCount'] >= 0]\n"
   ]
  },
  {
   "cell_type": "code",
   "execution_count": 60,
   "id": "2b23a1d4-b5f0-4f71-9111-dfd4d32a038b",
   "metadata": {},
   "outputs": [
    {
     "name": "stdout",
     "output_type": "stream",
     "text": [
      "Index(['commentsCount', 'likesCount', 'owner_id', 'owner_followersCount',\n",
      "       'owner_postsCount', 'impression', 'hashtag_count', 'mention_count',\n",
      "       'captionlen', 'hour', 'day_of_year', 'day_of_week_Friday',\n",
      "       'day_of_week_Monday', 'day_of_week_Saturday', 'day_of_week_Sunday',\n",
      "       'day_of_week_Thursday', 'day_of_week_Tuesday', 'day_of_week_Wednesday',\n",
      "       'owner_businessCategoryName_Actor', 'owner_businessCategoryName_Album',\n",
      "       'owner_businessCategoryName_Artist',\n",
      "       'owner_businessCategoryName_Clothing (Brand)',\n",
      "       'owner_businessCategoryName_Comedy club',\n",
      "       'owner_businessCategoryName_Community',\n",
      "       'owner_businessCategoryName_Digital creator',\n",
      "       'owner_businessCategoryName_Model',\n",
      "       'owner_businessCategoryName_Motivational speaker',\n",
      "       'owner_businessCategoryName_Movie/television studio',\n",
      "       'owner_businessCategoryName_None,Health/beauty',\n",
      "       'owner_businessCategoryName_None,Media',\n",
      "       'owner_businessCategoryName_None,News & media website',\n",
      "       'owner_businessCategoryName_None,Shopping & retail',\n",
      "       'owner_businessCategoryName_None,Video creator',\n",
      "       'owner_businessCategoryName_Scientist',\n",
      "       'owner_businessCategoryName_Video creator', 'owner_avg_likesCount',\n",
      "       'owner_median_likesCount'],\n",
      "      dtype='object')\n"
     ]
    }
   ],
   "source": [
    "print(df2.columns)"
   ]
  },
  {
   "cell_type": "code",
   "execution_count": 95,
   "id": "4f1f7255-0774-46f4-8492-282908a8600c",
   "metadata": {},
   "outputs": [],
   "source": [
    "# owner_id별 likesCount 평균\n",
    "df2['owner_avg_likesCount'] = df2.groupby('owner_id')['likesCount'].transform('mean')\n",
    "\n",
    "# owner_id별 likesCount 중앙값\n",
    "df2['owner_median_likesCount'] = df2.groupby('owner_id')['likesCount'].transform('median')\n",
    "df2['owner_median_commentCount'] = df2.groupby('owner_id')['commentsCount'].transform('median')"
   ]
  },
  {
   "cell_type": "code",
   "execution_count": 104,
   "id": "7157854f-c047-4983-b7bd-fa18dbb5b795",
   "metadata": {},
   "outputs": [],
   "source": [
    "# x와 y로 데이터 분리\n",
    "y = df2['likesCount']/df2['owner_followersCount'] # y는 likesCount와 commentsCount\n",
    "\n",
    "x = df2.drop(columns=['owner_median_commentCount','owner_id','likesCount', 'commentsCount','impression'])  # 나머지 열은 x\n",
    "#x = df2.drop(columns=['likesCount', 'impression'])  # 나머지 열은 x"
   ]
  },
  {
   "cell_type": "code",
   "execution_count": 110,
   "id": "84897973-21b2-4c16-a728-d004a8c9c641",
   "metadata": {},
   "outputs": [],
   "source": [
    "# x와 y로 데이터 분리\n",
    "y = df2['impression'] # y는 likesCount와 commentsCount\n",
    "\n",
    "x = df2.drop(columns=['owner_median_commentCount','owner_id','likesCount', 'commentsCount','impression'])  # 나머지 열은 x\n",
    "#x = df2.drop(columns=['likesCount', 'impression'])  # 나머지 열은 x"
   ]
  },
  {
   "cell_type": "code",
   "execution_count": 85,
   "id": "c3f66c53-e57b-4329-ba9e-d9ec703e0638",
   "metadata": {},
   "outputs": [
    {
     "name": "stdout",
     "output_type": "stream",
     "text": [
      "917\n"
     ]
    }
   ],
   "source": [
    "print(len(y))"
   ]
  },
  {
   "cell_type": "code",
   "execution_count": 117,
   "id": "6766ed51-52b5-4a13-8aab-856002eb3a6a",
   "metadata": {},
   "outputs": [
    {
     "name": "stdout",
     "output_type": "stream",
     "text": [
      "Index(['owner_followersCount', 'owner_postsCount', 'hashtag_count',\n",
      "       'mention_count', 'captionlen', 'hour', 'day_of_year',\n",
      "       'day_of_week_Friday', 'day_of_week_Monday', 'day_of_week_Saturday',\n",
      "       'day_of_week_Sunday', 'day_of_week_Thursday', 'day_of_week_Tuesday',\n",
      "       'day_of_week_Wednesday', 'owner_businessCategoryName_Actor',\n",
      "       'owner_businessCategoryName_Album', 'owner_businessCategoryName_Artist',\n",
      "       'owner_businessCategoryName_Clothing (Brand)',\n",
      "       'owner_businessCategoryName_Comedy club',\n",
      "       'owner_businessCategoryName_Community',\n",
      "       'owner_businessCategoryName_Digital creator',\n",
      "       'owner_businessCategoryName_Model',\n",
      "       'owner_businessCategoryName_Motivational speaker',\n",
      "       'owner_businessCategoryName_Movie/television studio',\n",
      "       'owner_businessCategoryName_None,Health/beauty',\n",
      "       'owner_businessCategoryName_None,Media',\n",
      "       'owner_businessCategoryName_None,News & media website',\n",
      "       'owner_businessCategoryName_None,Shopping & retail',\n",
      "       'owner_businessCategoryName_None,Video creator',\n",
      "       'owner_businessCategoryName_Scientist',\n",
      "       'owner_businessCategoryName_Video creator', 'owner_avg_likesCount',\n",
      "       'owner_median_likesCount'],\n",
      "      dtype='object')\n"
     ]
    }
   ],
   "source": [
    "print(x.columns)"
   ]
  },
  {
   "cell_type": "code",
   "execution_count": 97,
   "id": "f1719d75-a4b0-45a8-9ffc-ddcc5a7d14f0",
   "metadata": {},
   "outputs": [
    {
     "name": "stdout",
     "output_type": "stream",
     "text": [
      "                                                    Correlation with y\n",
      "owner_businessCategoryName_Album                              0.360993\n",
      "owner_businessCategoryName_Clothing (Brand)                   0.311700\n",
      "owner_median_commentCount                                     0.293138\n",
      "owner_businessCategoryName_Actor                              0.288402\n",
      "owner_avg_likesCount                                          0.248684\n",
      "owner_median_likesCount                                       0.239383\n",
      "owner_businessCategoryName_Artist                             0.144257\n",
      "owner_businessCategoryName_Model                              0.101293\n",
      "hour                                                          0.098977\n",
      "day_of_week_Saturday                                          0.053237\n",
      "owner_businessCategoryName_Comedy club                        0.028819\n",
      "day_of_week_Wednesday                                         0.018164\n",
      "day_of_week_Sunday                                            0.016860\n",
      "day_of_week_Monday                                           -0.006048\n",
      "day_of_week_Tuesday                                          -0.016270\n",
      "owner_businessCategoryName_None,Health/beauty                -0.024702\n",
      "day_of_week_Thursday                                         -0.031403\n",
      "owner_businessCategoryName_Scientist                         -0.032149\n",
      "day_of_week_Friday                                           -0.033221\n",
      "owner_followersCount                                         -0.044737\n",
      "owner_businessCategoryName_Community                         -0.050513\n",
      "owner_businessCategoryName_None,Media                        -0.055263\n",
      "owner_businessCategoryName_Motivational speaker              -0.056350\n",
      "owner_businessCategoryName_Digital creator                   -0.072418\n",
      "owner_businessCategoryName_None,News & media we...           -0.076172\n",
      "owner_businessCategoryName_Movie/television studio           -0.081165\n",
      "mention_count                                                -0.092192\n",
      "day_of_year                                                  -0.095952\n",
      "owner_businessCategoryName_Video creator                     -0.154795\n",
      "owner_businessCategoryName_None,Video creator                -0.158965\n",
      "owner_businessCategoryName_None,Shopping & retail            -0.182962\n",
      "hashtag_count                                                -0.203260\n",
      "owner_postsCount                                             -0.237371\n",
      "captionlen                                                   -0.255952\n"
     ]
    }
   ],
   "source": [
    "# y 계산\n",
    "\n",
    "\n",
    "\n",
    "# x의 각 피처와 y의 상관계수 계산\n",
    "correlations = x.corrwith(y)\n",
    "\n",
    "# 보기 좋게 DataFrame으로 정렬\n",
    "correlation_df = correlations.sort_values(ascending=False).to_frame(name='Correlation with y')\n",
    "print(correlation_df)"
   ]
  },
  {
   "cell_type": "code",
   "execution_count": 111,
   "id": "1502dce1-5222-49bb-ac35-0aab2d972d95",
   "metadata": {},
   "outputs": [],
   "source": [
    "import xgboost as xgb\n",
    "from sklearn.model_selection import train_test_split\n",
    "from sklearn.metrics import mean_squared_error, r2_score,mean_absolute_error"
   ]
  },
  {
   "cell_type": "code",
   "execution_count": 112,
   "id": "d926f4e0-15ad-4c56-94bc-3d3f3488a842",
   "metadata": {},
   "outputs": [
    {
     "name": "stdout",
     "output_type": "stream",
     "text": [
      "Mean Squared Error: 0.00169050\n",
      "mean_absolute_error: 0.02\n",
      "R² Score: 0.64\n"
     ]
    }
   ],
   "source": [
    "# 데이터 분할 (8:2 비율로 훈련/테스트 셋)\n",
    "from sklearn.preprocessing import MinMaxScaler\n",
    "\n",
    "x_train, x_test, y_train, y_test = train_test_split(x, y, test_size=0.2, random_state=42)\n",
    "# MinMax 스케일링 적용\n",
    "scaler = MinMaxScaler()\n",
    "x_train = scaler.fit_transform(x_train)\n",
    "x_test = scaler.transform(x_test)\n",
    "# XGBoost 회귀 모델 생성\n",
    "model = xgb.XGBRegressor(objective='reg:squarederror', n_estimators=100, learning_rate=0.1, max_depth=5)\n",
    "\n",
    "# 모델 학습\n",
    "model.fit(x_train, y_train)\n",
    "\n",
    "# 예측\n",
    "y_pred = model.predict(x_test)\n",
    "\n",
    "# 평가\n",
    "mse = mean_squared_error(y_test, y_pred)\n",
    "mae=mean_absolute_error(y_test, y_pred)\n",
    "r2 = r2_score(y_test, y_pred)\n",
    "print(f\"Mean Squared Error: {mse:.8f}\")\n",
    "\n",
    "print(f\"mean_absolute_error: {mae:.2f}\")\n",
    "print(f\"R² Score: {r2:.2f}\")"
   ]
  },
  {
   "cell_type": "code",
   "execution_count": 113,
   "id": "0fa19735-42d8-4d1b-984b-abee3e7e7605",
   "metadata": {},
   "outputs": [
    {
     "name": "stdout",
     "output_type": "stream",
     "text": [
      "mean_absolute_percentage_erro: 0.76\n"
     ]
    }
   ],
   "source": [
    "from sklearn.metrics import mean_absolute_percentage_error\n",
    "mape=mean_absolute_percentage_error(y_test, y_pred)\n",
    "print(f\"mean_absolute_percentage_erro: {mape:.2f}\")"
   ]
  }
 ],
 "metadata": {
  "kernelspec": {
   "display_name": "base",
   "language": "python",
   "name": "python3"
  },
  "language_info": {
   "codemirror_mode": {
    "name": "ipython",
    "version": 3
   },
   "file_extension": ".py",
   "mimetype": "text/x-python",
   "name": "python",
   "nbconvert_exporter": "python",
   "pygments_lexer": "ipython3",
   "version": "3.12.7"
  }
 },
 "nbformat": 4,
 "nbformat_minor": 5
}
